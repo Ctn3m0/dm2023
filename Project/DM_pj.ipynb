{
 "cells": [
  {
   "attachments": {},
   "cell_type": "markdown",
   "id": "45bbea81",
   "metadata": {},
   "source": [
    "# Import library"
   ]
  },
  {
   "cell_type": "code",
   "execution_count": 80,
   "id": "21ad5d56",
   "metadata": {},
   "outputs": [],
   "source": [
    "from PIL import Image\n",
    "import matplotlib.pyplot as plt\n",
    "import numpy as np"
   ]
  },
  {
   "attachments": {},
   "cell_type": "markdown",
   "id": "aa57ae1f",
   "metadata": {},
   "source": [
    "# Read the image"
   ]
  },
  {
   "cell_type": "code",
   "execution_count": 81,
   "id": "549e7925",
   "metadata": {},
   "outputs": [
    {
     "data": {
      "text/plain": [
       "<matplotlib.image.AxesImage at 0x23975213df0>"
      ]
     },
     "execution_count": 81,
     "metadata": {},
     "output_type": "execute_result"
    },
    {
     "data": {
      "image/png": "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",
      "text/plain": [
       "<Figure size 640x480 with 1 Axes>"
      ]
     },
     "metadata": {},
     "output_type": "display_data"
    }
   ],
   "source": [
    "image = plt.imread(\"sun-1.jpg\")\n",
    "plt.imshow(image)"
   ]
  },
  {
   "attachments": {},
   "cell_type": "markdown",
   "id": "efa2ddeb",
   "metadata": {},
   "source": [
    "# Preprocessing image"
   ]
  },
  {
   "cell_type": "code",
   "execution_count": 82,
   "id": "90a5dc65",
   "metadata": {},
   "outputs": [
    {
     "name": "stdout",
     "output_type": "stream",
     "text": [
      "(1650, 3)\n"
     ]
    }
   ],
   "source": [
    "img = np.array(image, dtype=np.float64) / 255\n",
    "\n",
    "w, h, d = image.shape\n",
    "assert d == 3 \n",
    "image_array = img.reshape(w * h, d) \n",
    "print(image_array.shape)"
   ]
  },
  {
   "cell_type": "code",
   "execution_count": 83,
   "id": "f5eee926",
   "metadata": {},
   "outputs": [
    {
     "name": "stdout",
     "output_type": "stream",
     "text": [
      "There are 1612 distinct colors on 1650 pixels\n"
     ]
    }
   ],
   "source": [
    "print( f\"There are {len( np.unique(image_array, axis=0))} distinct colors on {w*h} pixels\" )"
   ]
  },
  {
   "attachments": {},
   "cell_type": "markdown",
   "id": "4b79d403",
   "metadata": {},
   "source": [
    "# Define functions"
   ]
  },
  {
   "cell_type": "code",
   "execution_count": 84,
   "id": "4166688b",
   "metadata": {},
   "outputs": [],
   "source": [
    "import math\n",
    "import random\n",
    "\n",
    "def euclidean_distance(x, y):\n",
    "    return math.sqrt((x[0] - y[0])**2 + (x[1] - y[1])**2 + (x[2] - y[2])**2)\n",
    "\n",
    "def mahattan_distance(x, y):\n",
    "    return x-y"
   ]
  },
  {
   "cell_type": "code",
   "execution_count": 85,
   "id": "4faae59f",
   "metadata": {},
   "outputs": [],
   "source": [
    "def kernel(bandwidth, dis):\n",
    "    if dis < bandwidth:\n",
    "        return 1\n",
    "    else: \n",
    "        return 0\n",
    "\n",
    "def shiftMode(data, pre, bandwidth):\n",
    "#     mode = (x*kernel(bandwidth, euclidean_distance(x, pre)) for x in sampled_data)/(kernel(bandwidth, euclidean_distance(x, pre)) for x in sampled_data)\n",
    "    numerator = 0\n",
    "    denominator = 0\n",
    "    for x in data:\n",
    "        kernel_value = kernel(bandwidth, euclidean_distance(x, pre))\n",
    "        numerator += x * kernel_value\n",
    "        denominator += kernel_value\n",
    "    mode = numerator / denominator\n",
    "    return mode"
   ]
  },
  {
   "cell_type": "code",
   "execution_count": 86,
   "id": "0a55dfea",
   "metadata": {},
   "outputs": [
    {
     "data": {
      "text/plain": [
       "1650"
      ]
     },
     "execution_count": 86,
     "metadata": {},
     "output_type": "execute_result"
    }
   ],
   "source": [
    "n = image_array.shape[0]\n",
    "n"
   ]
  },
  {
   "cell_type": "code",
   "execution_count": 87,
   "id": "17b5d74a",
   "metadata": {},
   "outputs": [],
   "source": [
    "mode = [[] for i in range(n)]"
   ]
  },
  {
   "cell_type": "code",
   "execution_count": 88,
   "id": "72ae15f9",
   "metadata": {},
   "outputs": [],
   "source": [
    "import numpy as np\n",
    "\n",
    "# This function used to estimate the bandwidth based on k nearest neighbors distances\n",
    "def estimate_bandwidth(data, k):\n",
    "    n = data.shape[0]\n",
    "    distances = np.zeros((n, n))\n",
    "\n",
    "    for i in range(n):\n",
    "        for j in range(n):\n",
    "            distances[i, j] = euclidean_distance(image_array[i], image_array[j])\n",
    "            \n",
    "    sorted_distances = np.sort(distances, axis=1)\n",
    "    nearest_neighbors = sorted_distances[:, 1:k+1]\n",
    "    \n",
    "    bandwidth = np.mean(nearest_neighbors)\n",
    "    \n",
    "    return bandwidth"
   ]
  },
  {
   "cell_type": "code",
   "execution_count": 89,
   "id": "a26afe9a",
   "metadata": {},
   "outputs": [],
   "source": [
    "estimated = estimate_bandwidth(image_array, 30)"
   ]
  },
  {
   "attachments": {},
   "cell_type": "markdown",
   "id": "c76b661e",
   "metadata": {},
   "source": [
    "# Meanshift"
   ]
  },
  {
   "cell_type": "code",
   "execution_count": 90,
   "id": "dc18b036",
   "metadata": {},
   "outputs": [
    {
     "name": "stdout",
     "output_type": "stream",
     "text": [
      "This is the 0 pixel\n",
      "This is the 500 pixel\n",
      "This is the 1000 pixel\n",
      "This is the 1500 pixel\n"
     ]
    }
   ],
   "source": [
    "from datetime import datetime\n",
    "start_time = datetime.now()\n",
    "threshold = 1e-6\n",
    "bandwidth = estimated\n",
    "# mode = [[]]\n",
    "\n",
    "for i in range(n):\n",
    "    m = 0\n",
    "    mode[i].append(image_array[i])\n",
    "    flag = True\n",
    "    if i%500 == 0:\n",
    "      print(f\"This is the {i} pixel\")\n",
    "    while flag == True:\n",
    "        mode[i].append(shiftMode(image_array, mode[i][m], bandwidth)) \n",
    "        m = m+1\n",
    "        if euclidean_distance(mode[i][m], mode[i][m-1]) < threshold:\n",
    "            flag = False\n",
    "    mode[i][0] = mode[i][m]\n",
    "    # print(mode[i][0])"
   ]
  },
  {
   "attachments": {},
   "cell_type": "markdown",
   "id": "2944560f",
   "metadata": {},
   "source": [
    "# Divide to clusters"
   ]
  },
  {
   "cell_type": "code",
   "execution_count": null,
   "id": "6401eb33",
   "metadata": {},
   "outputs": [],
   "source": [
    "clusters = []\n",
    "for i in range(n):\n",
    "    if tuple(mode[i][0]) not in clusters:\n",
<<<<<<< HEAD
    "        clusters.append(tuple(mode[i][0]))"
=======
    "        clusters.append(tuple(mode[i][0]))\n"
>>>>>>> 9fe9ab23fc2c57d7df36a942e321cef92f01119e
   ]
  },
  {
   "attachments": {},
   "cell_type": "markdown",
   "id": "76949498",
   "metadata": {},
   "source": [
    "# Segmented Image"
   ]
  },
  {
   "cell_type": "code",
   "execution_count": 92,
   "id": "c8cc2c0e",
   "metadata": {},
   "outputs": [],
   "source": [
    "mode_arr = [m[0] for m in mode]\n",
    "\n",
    "labels_meanshift = np.array(mode_arr)\n",
    "        \n",
    "unique_labels = np.unique(labels_meanshift)\n",
    "cluster_name = np.zeros(len(labels_meanshift), dtype=int)\n",
    "\n",
    "for i, label in enumerate(unique_labels):\n",
    "    cluster_name[np.where(labels_meanshift == label)[0]] = i"
   ]
  },
  {
   "cell_type": "code",
   "execution_count": 96,
   "id": "f48131f8",
   "metadata": {},
   "outputs": [
    {
     "data": {
      "text/plain": [
       "(-0.5, 49.5, 32.5, -0.5)"
      ]
     },
     "execution_count": 96,
     "metadata": {},
     "output_type": "execute_result"
    },
    {
     "data": {
      "image/png": "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",
      "text/plain": [
       "<Figure size 640x480 with 1 Axes>"
      ]
     },
     "metadata": {},
     "output_type": "display_data"
    }
   ],
   "source": [
    "plt.imshow(cluster_name.reshape(w, h))\n",
    "plt.title('Mean Shift Image Segmentation)')\n",
    "plt.savefig(\"Meanshift.png\")\n",
    "plt.axis('off')"
   ]
  },
  {
   "cell_type": "code",
   "execution_count": 94,
   "id": "24a8a767",
   "metadata": {},
   "outputs": [
    {
     "data": {
      "text/plain": [
       "<matplotlib.image.AxesImage at 0x2396f8c3700>"
      ]
     },
     "execution_count": 94,
     "metadata": {},
     "output_type": "execute_result"
    },
    {
     "data": {
      "image/png": "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",
      "text/plain": [
       "<Figure size 640x480 with 1 Axes>"
      ]
     },
     "metadata": {},
     "output_type": "display_data"
    }
   ],
   "source": [
    "import matplotlib.pyplot as plt\n",
    "labels_meanshift = []\n",
    "for i in range(n):\n",
    "    labels_meanshift.append(mode[i][0])\n",
    "plt.imshow(np.array(labels_meanshift).reshape(w, h, d))"
   ]
  },
  {
   "cell_type": "code",
   "execution_count": 95,
   "id": "45afd5ba",
   "metadata": {},
   "outputs": [
    {
     "name": "stdout",
     "output_type": "stream",
     "text": [
      "Duration: 0:00:58.635427\n"
     ]
    }
   ],
   "source": [
    "end_time = datetime.now()\n",
    "print('Duration: {}'.format(end_time - start_time))"
   ]
  }
 ],
 "metadata": {
  "kernelspec": {
   "display_name": "Python 3 (ipykernel)",
   "language": "python",
   "name": "python3"
  },
  "language_info": {
   "codemirror_mode": {
    "name": "ipython",
    "version": 3
   },
   "file_extension": ".py",
   "mimetype": "text/x-python",
   "name": "python",
   "nbconvert_exporter": "python",
   "pygments_lexer": "ipython3",
   "version": "3.10.11"
  }
 },
 "nbformat": 4,
 "nbformat_minor": 5
}
